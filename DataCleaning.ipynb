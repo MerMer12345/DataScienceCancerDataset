{
 "cells": [
  {
   "cell_type": "code",
   "id": "initial_id",
   "metadata": {
    "collapsed": true,
    "ExecuteTime": {
     "end_time": "2024-11-28T17:09:56.456096Z",
     "start_time": "2024-11-28T17:09:56.450177Z"
    }
   },
   "source": [
    "import pandas as pd\n",
    "from sklearn.impute import SimpleImputer\n",
    "\n",
    "df = pd.read_csv(\"Cancer Dataset.csv\")\n",
    "\n",
    "\n"
   ],
   "outputs": [],
   "execution_count": 15
  },
  {
   "metadata": {},
   "cell_type": "markdown",
   "source": "drop id and Unnamed:32,  its irrelevant",
   "id": "fbd84a5a3e89c6ec"
  },
  {
   "metadata": {
    "ExecuteTime": {
     "end_time": "2024-11-28T17:09:56.482902Z",
     "start_time": "2024-11-28T17:09:56.479522Z"
    }
   },
   "cell_type": "code",
   "source": [
    "if 'id' in df.columns:\n",
    "    df = df.drop(columns=['id'])\n",
    "if 'Unnamed: 32' in df.columns:\n",
    "    df = df.drop(columns=['Unnamed: 32'])"
   ],
   "id": "3bbca1e7942f18a2",
   "outputs": [],
   "execution_count": 16
  },
  {
   "metadata": {},
   "cell_type": "markdown",
   "source": "identify coulums with NaN Values",
   "id": "1a57cfbbaa9e975c"
  },
  {
   "metadata": {
    "ExecuteTime": {
     "end_time": "2024-11-28T17:09:56.513902Z",
     "start_time": "2024-11-28T17:09:56.508269Z"
    }
   },
   "cell_type": "code",
   "source": [
    "numerical_cols = df.select_dtypes(include=['number']).columns.tolist()\n",
    "numerical_cols = [col for col in numerical_cols if df[col].notna().sum() > 0]"
   ],
   "id": "a74aca6ace35f981",
   "outputs": [],
   "execution_count": 17
  },
  {
   "metadata": {},
   "cell_type": "markdown",
   "source": "if over 30% of values are missing from a row, it will be removed, the other missing data will be filled with the mean",
   "id": "14d514a73d1d8b9c"
  },
  {
   "metadata": {
    "ExecuteTime": {
     "end_time": "2024-11-28T17:09:56.536203Z",
     "start_time": "2024-11-28T17:09:56.526901Z"
    }
   },
   "cell_type": "code",
   "source": [
    "# Set a threshold for missing values per row (e.g., drop rows with more than 50% missing)\n",
    "threshold = 0.3  # 30% missing values allowed\n",
    "missing_ratio = df[numerical_cols].isnull().sum(axis=1) / len(numerical_cols)\n",
    "\n",
    "# Drop rows with too many missing values\n",
    "df = df[missing_ratio <= threshold]\n",
    "# Initialize the SimpleImputer for remaining rows\n",
    "imputer = SimpleImputer(strategy='mean')\n",
    "\n",
    "# Apply the imputer to numerical columns\n",
    "df[numerical_cols] = pd.DataFrame(\n",
    "    imputer.fit_transform(df[numerical_cols]),\n",
    "    columns=numerical_cols,\n",
    "    index=df.index\n",
    ")"
   ],
   "id": "507ae6dbc8e94243",
   "outputs": [],
   "execution_count": 18
  },
  {
   "metadata": {},
   "cell_type": "markdown",
   "source": "show the dataset and put into a clean file",
   "id": "585af442edf451ae"
  },
  {
   "metadata": {
    "ExecuteTime": {
     "end_time": "2024-11-28T17:11:14.582623Z",
     "start_time": "2024-11-28T17:11:14.552172Z"
    }
   },
   "cell_type": "code",
   "source": [
    "df.to_csv(\"cleaned_dataset.csv\", index=False)\n",
    "print(df.isnull().sum())\n",
    "print(df.head())"
   ],
   "id": "85fbc56592aa0bd5",
   "outputs": [
    {
     "name": "stdout",
     "output_type": "stream",
     "text": [
      "diagnosis                  0\n",
      "radius_mean                0\n",
      "texture_mean               0\n",
      "perimeter_mean             0\n",
      "area_mean                  0\n",
      "smoothness_mean            0\n",
      "compactness_mean           0\n",
      "concavity_mean             0\n",
      "concave points_mean        0\n",
      "symmetry_mean              0\n",
      "fractal_dimension_mean     0\n",
      "radius_se                  0\n",
      "texture_se                 0\n",
      "perimeter_se               0\n",
      "area_se                    0\n",
      "smoothness_se              0\n",
      "compactness_se             0\n",
      "concavity_se               0\n",
      "concave points_se          0\n",
      "symmetry_se                0\n",
      "fractal_dimension_se       0\n",
      "radius_worst               0\n",
      "texture_worst              0\n",
      "perimeter_worst            0\n",
      "area_worst                 0\n",
      "smoothness_worst           0\n",
      "compactness_worst          0\n",
      "concavity_worst            0\n",
      "concave points_worst       0\n",
      "symmetry_worst             0\n",
      "fractal_dimension_worst    0\n",
      "dtype: int64\n",
      "  diagnosis  radius_mean  texture_mean  perimeter_mean  area_mean  \\\n",
      "0         M        17.99         10.38          122.80     1001.0   \n",
      "1         M        20.57         17.77          132.90     1326.0   \n",
      "2         M        19.69         21.25          130.00     1203.0   \n",
      "3         M        11.42         20.38           77.58      386.1   \n",
      "4         M        20.29         14.34          135.10     1297.0   \n",
      "\n",
      "   smoothness_mean  compactness_mean  concavity_mean  concave points_mean  \\\n",
      "0          0.11840           0.27760          0.3001              0.14710   \n",
      "1          0.08474           0.07864          0.0869              0.07017   \n",
      "2          0.10960           0.15990          0.1974              0.12790   \n",
      "3          0.14250           0.28390          0.2414              0.10520   \n",
      "4          0.10030           0.13280          0.1980              0.10430   \n",
      "\n",
      "   symmetry_mean  ...  radius_worst  texture_worst  perimeter_worst  \\\n",
      "0         0.2419  ...         25.38          17.33           184.60   \n",
      "1         0.1812  ...         24.99          23.41           158.80   \n",
      "2         0.2069  ...         23.57          25.53           152.50   \n",
      "3         0.2597  ...         14.91          26.50            98.87   \n",
      "4         0.1809  ...         22.54          16.67           152.20   \n",
      "\n",
      "   area_worst  smoothness_worst  compactness_worst  concavity_worst  \\\n",
      "0      2019.0            0.1622             0.6656           0.7119   \n",
      "1      1956.0            0.1238             0.1866           0.2416   \n",
      "2      1709.0            0.1444             0.4245           0.4504   \n",
      "3       567.7            0.2098             0.8663           0.6869   \n",
      "4      1575.0            0.1374             0.2050           0.4000   \n",
      "\n",
      "   concave points_worst  symmetry_worst  fractal_dimension_worst  \n",
      "0                0.2654          0.4601                  0.11890  \n",
      "1                0.1860          0.2750                  0.08902  \n",
      "2                0.2430          0.3613                  0.08758  \n",
      "3                0.2575          0.6638                  0.17300  \n",
      "4                0.1625          0.2364                  0.07678  \n",
      "\n",
      "[5 rows x 31 columns]\n"
     ]
    }
   ],
   "execution_count": 20
  }
 ],
 "metadata": {
  "kernelspec": {
   "display_name": "Python 3",
   "language": "python",
   "name": "python3"
  },
  "language_info": {
   "codemirror_mode": {
    "name": "ipython",
    "version": 2
   },
   "file_extension": ".py",
   "mimetype": "text/x-python",
   "name": "python",
   "nbconvert_exporter": "python",
   "pygments_lexer": "ipython2",
   "version": "2.7.6"
  }
 },
 "nbformat": 4,
 "nbformat_minor": 5
}
