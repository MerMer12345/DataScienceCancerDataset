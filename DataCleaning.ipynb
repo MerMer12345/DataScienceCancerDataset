{
 "cells": [
  {
   "cell_type": "code",
   "id": "initial_id",
   "metadata": {
    "collapsed": true,
    "ExecuteTime": {
     "end_time": "2025-01-08T14:00:11.330508Z",
     "start_time": "2025-01-08T14:00:11.319231Z"
    }
   },
   "source": [
    "import pandas as pd\n",
    "from sklearn.impute import SimpleImputer\n",
    "#Original Dataset: Wisconsin Breast Cancer Dataset (WBCD) \n",
    "df = pd.read_csv(\"Cancer Dataset.csv\")\n"
   ],
   "outputs": [],
   "execution_count": 5
  },
  {
   "metadata": {},
   "cell_type": "markdown",
   "source": "drop id and Unnamed:32,  its irrelevant",
   "id": "fbd84a5a3e89c6ec"
  },
  {
   "metadata": {
    "ExecuteTime": {
     "end_time": "2025-01-08T14:00:11.351092Z",
     "start_time": "2025-01-08T14:00:11.345521Z"
    }
   },
   "cell_type": "code",
   "source": [
    "if 'id' in df.columns:\n",
    "    df = df.drop(columns=['id'])\n",
    "if 'Unnamed: 32' in df.columns:\n",
    "    df = df.drop(columns=['Unnamed: 32'])"
   ],
   "id": "3bbca1e7942f18a2",
   "outputs": [],
   "execution_count": 6
  },
  {
   "metadata": {},
   "cell_type": "markdown",
   "source": "identify coulums with NaN Values",
   "id": "1a57cfbbaa9e975c"
  },
  {
   "metadata": {},
   "cell_type": "markdown",
   "source": "if over 30% of values are missing from a row, it will be removed, the other missing data will be filled with the mean",
   "id": "14d514a73d1d8b9c"
  },
  {
   "metadata": {
    "ExecuteTime": {
     "end_time": "2025-01-08T14:00:11.380055Z",
     "start_time": "2025-01-08T14:00:11.364248Z"
    }
   },
   "cell_type": "code",
   "source": [
    "# Select numerical columns from the DataFrame, ensuring only columns with numeric data types are included\n",
    "numerical_cols = df.select_dtypes(include=['number']).columns.tolist()\n",
    "numerical_cols = [col for col in numerical_cols if df[col].notna().sum() > 0]\n",
    "\n",
    "# Set a threshold for missing values per row (e.g., drop rows with more than 50% missing)\n",
    "threshold = 0.3  # 30% missing values allowed\n",
    "missing_ratio = df[numerical_cols].isnull().sum(axis=1) / len(numerical_cols)\n",
    "\n",
    "# Drop rows with too many missing values\n",
    "df = df[missing_ratio <= threshold]\n",
    "# Initialize the SimpleImputer for remaining rows\n",
    "imputer = SimpleImputer(strategy='mean')\n",
    "\n",
    "# Apply the imputer to numerical columns\n",
    "df[numerical_cols] = pd.DataFrame(\n",
    "    imputer.fit_transform(df[numerical_cols]),\n",
    "    columns=numerical_cols,\n",
    "    index=df.index\n",
    ")"
   ],
   "id": "507ae6dbc8e94243",
   "outputs": [],
   "execution_count": 7
  },
  {
   "metadata": {},
   "cell_type": "markdown",
   "source": "show the dataset and put into a clean file",
   "id": "585af442edf451ae"
  },
  {
   "metadata": {
    "ExecuteTime": {
     "end_time": "2025-01-08T14:00:11.412718Z",
     "start_time": "2025-01-08T14:00:11.394342Z"
    }
   },
   "cell_type": "code",
   "source": [
    "df.to_csv(\"cleaned_dataset.csv\", index=False)\n",
    "print(df.isnull().sum())"
   ],
   "id": "85fbc56592aa0bd5",
   "outputs": [
    {
     "name": "stdout",
     "output_type": "stream",
     "text": [
      "diagnosis                  0\n",
      "radius_mean                0\n",
      "texture_mean               0\n",
      "perimeter_mean             0\n",
      "area_mean                  0\n",
      "smoothness_mean            0\n",
      "compactness_mean           0\n",
      "concavity_mean             0\n",
      "concave points_mean        0\n",
      "symmetry_mean              0\n",
      "fractal_dimension_mean     0\n",
      "radius_se                  0\n",
      "texture_se                 0\n",
      "perimeter_se               0\n",
      "area_se                    0\n",
      "smoothness_se              0\n",
      "compactness_se             0\n",
      "concavity_se               0\n",
      "concave points_se          0\n",
      "symmetry_se                0\n",
      "fractal_dimension_se       0\n",
      "radius_worst               0\n",
      "texture_worst              0\n",
      "perimeter_worst            0\n",
      "area_worst                 0\n",
      "smoothness_worst           0\n",
      "compactness_worst          0\n",
      "concavity_worst            0\n",
      "concave points_worst       0\n",
      "symmetry_worst             0\n",
      "fractal_dimension_worst    0\n",
      "dtype: int64\n"
     ]
    }
   ],
   "execution_count": 8
  }
 ],
 "metadata": {
  "kernelspec": {
   "display_name": "Python 3",
   "language": "python",
   "name": "python3"
  },
  "language_info": {
   "codemirror_mode": {
    "name": "ipython",
    "version": 2
   },
   "file_extension": ".py",
   "mimetype": "text/x-python",
   "name": "python",
   "nbconvert_exporter": "python",
   "pygments_lexer": "ipython2",
   "version": "2.7.6"
  }
 },
 "nbformat": 4,
 "nbformat_minor": 5
}
